{
 "cells": [
  {
   "cell_type": "markdown",
   "metadata": {},
   "source": [
    "## GR5245 Homework 2\n",
    "\n",
    "(a) Load the MNIST dataset from tf.keras.datasets.fashion_mnist."
   ]
  },
  {
   "cell_type": "code",
   "execution_count": 8,
   "metadata": {},
   "outputs": [],
   "source": [
    "import tensorflow as tf\n",
    "\n",
    "(x_train_full, y_train_full), (x_test, y_test) = tf.keras.datasets.fashion_mnist.load_data()"
   ]
  },
  {
   "cell_type": "markdown",
   "metadata": {},
   "source": [
    "(b) Rescale the features to have values between 0 and 1. For simplicity, use the last 5000 instances in \n",
    "the training set as validation set for evaluation during training. "
   ]
  },
  {
   "cell_type": "code",
   "execution_count": 9,
   "metadata": {},
   "outputs": [],
   "source": [
    "x_train_full = x_train_full / 255\n",
    "x_test = x_test / 255\n",
    "\n",
    "x_train = x_train_full[:-5000]\n",
    "x_val = x_train_full[-5000:]"
   ]
  },
  {
   "cell_type": "code",
   "execution_count": 86,
   "metadata": {},
   "outputs": [],
   "source": [
    "y_train = y_train_full[:-5000]"
   ]
  },
  {
   "cell_type": "markdown",
   "metadata": {},
   "source": [
    "(c) Use keras Sequential API to create two models - an encoder and a decoder with layers as shown \n",
    "below. And then use Sequential API again to create an autoencoder model from the encoder and \n",
    "decoder. "
   ]
  },
  {
   "cell_type": "code",
   "execution_count": 12,
   "metadata": {},
   "outputs": [],
   "source": [
    "encoder = tf.keras.Sequential([\n",
    "    tf.keras.layers.Flatten(),\n",
    "    tf.keras.layers.Dense(128, activation=\"relu\"),\n",
    "    tf.keras.layers.Dense(64, activation=\"relu\"),\n",
    "])\n"
   ]
  },
  {
   "cell_type": "code",
   "execution_count": 13,
   "metadata": {},
   "outputs": [],
   "source": [
    "decoder = tf.keras.Sequential([\n",
    "    tf.keras.layers.Dense(128, activation=\"relu\"),\n",
    "    tf.keras.layers.Dense(784, activation=\"sigmoid\"),\n",
    "    tf.keras.layers.Reshape((28, 28)),\n",
    "])\n"
   ]
  },
  {
   "cell_type": "code",
   "execution_count": 14,
   "metadata": {},
   "outputs": [],
   "source": [
    "autoencoder = tf.keras.Sequential([\n",
    "    encoder,\n",
    "    decoder,\n",
    "])\n"
   ]
  },
  {
   "cell_type": "markdown",
   "metadata": {},
   "source": [
    "(d)  Compile the autoencoder model using the choices below.\n",
    "\n",
    "    i. Loss: binary cross entropy\n",
    "\n",
    "    ii. Metric: note that the 784 values in each label are not binary values 0 or 1. To compute the \n",
    "    binary accuracy, we would first round the pixel values to an integer to make them binary values. \n",
    "    Use the following function as the metric. \n",
    "\n",
    "```python\n",
    "def rounded_accuracy(y_true, y_pred): \n",
    "    return keras.metrics.binary_accuracy(tf.round(y_true), tf.round(y_pred)) \n",
    "``` \n",
    "    iii. Optimizer: SGD with learning rate = 1.5\n",
    "\n",
    "It’s recommended to set the number of epochs to be large (eg. 100) and include early stopping criterion \n",
    "(with patience=3, also set restore_best_weights=True) in the training process."
   ]
  },
  {
   "cell_type": "code",
   "execution_count": 15,
   "metadata": {},
   "outputs": [],
   "source": [
    "loss = tf.keras.losses.BinaryCrossentropy()\n"
   ]
  },
  {
   "cell_type": "code",
   "execution_count": 16,
   "metadata": {},
   "outputs": [],
   "source": [
    "def rounded_accuracy(y_true, y_pred): \n",
    "    return tf.keras.metrics.binary_accuracy(tf.round(y_true), tf.round(y_pred)) "
   ]
  },
  {
   "cell_type": "code",
   "execution_count": 17,
   "metadata": {},
   "outputs": [],
   "source": [
    "opt = tf.keras.optimizers.SGD(learning_rate=1.5)\n"
   ]
  },
  {
   "cell_type": "code",
   "execution_count": 25,
   "metadata": {},
   "outputs": [],
   "source": [
    "autoencoder.compile(optimizer=opt,\n",
    "                    loss=loss,\n",
    "                    metrics=[rounded_accuracy])\n"
   ]
  },
  {
   "cell_type": "code",
   "execution_count": 19,
   "metadata": {},
   "outputs": [],
   "source": [
    "early_stopping = tf.keras.callbacks.EarlyStopping(patience=3, restore_best_weights=True)"
   ]
  },
  {
   "cell_type": "code",
   "execution_count": 26,
   "metadata": {},
   "outputs": [
    {
     "name": "stdout",
     "output_type": "stream",
     "text": [
      "Epoch 1/100\n",
      "1719/1719 [==============================] - 3s 2ms/step - loss: 0.2752 - rounded_accuracy: 0.9439 - val_loss: 0.2783 - val_rounded_accuracy: 0.9391\n",
      "Epoch 2/100\n",
      "1719/1719 [==============================] - 3s 2ms/step - loss: 0.2748 - rounded_accuracy: 0.9442 - val_loss: 0.2798 - val_rounded_accuracy: 0.9363\n",
      "Epoch 3/100\n",
      "1719/1719 [==============================] - 3s 2ms/step - loss: 0.2744 - rounded_accuracy: 0.9447 - val_loss: 0.2763 - val_rounded_accuracy: 0.9431\n",
      "Epoch 4/100\n",
      "1719/1719 [==============================] - 3s 2ms/step - loss: 0.2741 - rounded_accuracy: 0.9449 - val_loss: 0.2766 - val_rounded_accuracy: 0.9460\n",
      "Epoch 5/100\n",
      "1719/1719 [==============================] - 3s 2ms/step - loss: 0.2738 - rounded_accuracy: 0.9453 - val_loss: 0.2752 - val_rounded_accuracy: 0.9462\n",
      "Epoch 6/100\n",
      "1719/1719 [==============================] - 3s 2ms/step - loss: 0.2735 - rounded_accuracy: 0.9457 - val_loss: 0.2750 - val_rounded_accuracy: 0.9439\n",
      "Epoch 7/100\n",
      "1719/1719 [==============================] - 3s 2ms/step - loss: 0.2732 - rounded_accuracy: 0.9458 - val_loss: 0.2742 - val_rounded_accuracy: 0.9465\n",
      "Epoch 8/100\n",
      "1719/1719 [==============================] - 3s 2ms/step - loss: 0.2729 - rounded_accuracy: 0.9461 - val_loss: 0.2741 - val_rounded_accuracy: 0.9461\n",
      "Epoch 9/100\n",
      "1719/1719 [==============================] - 3s 2ms/step - loss: 0.2727 - rounded_accuracy: 0.9464 - val_loss: 0.2741 - val_rounded_accuracy: 0.9480\n",
      "Epoch 10/100\n",
      "1719/1719 [==============================] - 3s 2ms/step - loss: 0.2725 - rounded_accuracy: 0.9465 - val_loss: 0.2744 - val_rounded_accuracy: 0.9472\n",
      "Epoch 11/100\n",
      "1719/1719 [==============================] - 3s 2ms/step - loss: 0.2723 - rounded_accuracy: 0.9467 - val_loss: 0.2736 - val_rounded_accuracy: 0.9484\n",
      "Epoch 12/100\n",
      "1719/1719 [==============================] - 3s 2ms/step - loss: 0.2721 - rounded_accuracy: 0.9470 - val_loss: 0.2755 - val_rounded_accuracy: 0.9467\n",
      "Epoch 13/100\n",
      "1719/1719 [==============================] - 3s 2ms/step - loss: 0.2718 - rounded_accuracy: 0.9472 - val_loss: 0.2736 - val_rounded_accuracy: 0.9465\n",
      "Epoch 14/100\n",
      "1719/1719 [==============================] - 3s 2ms/step - loss: 0.2717 - rounded_accuracy: 0.9473 - val_loss: 0.2732 - val_rounded_accuracy: 0.9473\n",
      "Epoch 15/100\n",
      "1719/1719 [==============================] - 3s 2ms/step - loss: 0.2714 - rounded_accuracy: 0.9475 - val_loss: 0.2727 - val_rounded_accuracy: 0.9485\n",
      "Epoch 16/100\n",
      "1719/1719 [==============================] - 3s 2ms/step - loss: 0.2713 - rounded_accuracy: 0.9476 - val_loss: 0.2724 - val_rounded_accuracy: 0.9476\n",
      "Epoch 17/100\n",
      "1719/1719 [==============================] - 3s 2ms/step - loss: 0.2712 - rounded_accuracy: 0.9477 - val_loss: 0.2730 - val_rounded_accuracy: 0.9486\n",
      "Epoch 18/100\n",
      "1719/1719 [==============================] - 3s 2ms/step - loss: 0.2710 - rounded_accuracy: 0.9478 - val_loss: 0.2734 - val_rounded_accuracy: 0.9474\n",
      "Epoch 19/100\n",
      "1719/1719 [==============================] - 3s 2ms/step - loss: 0.2708 - rounded_accuracy: 0.9480 - val_loss: 0.2725 - val_rounded_accuracy: 0.9469\n"
     ]
    }
   ],
   "source": [
    "history = autoencoder.fit(x_train,\n",
    "                          x_train,\n",
    "                          validation_data=(x_val, x_val),\n",
    "                          batch_size=32,\n",
    "                          epochs=100,\n",
    "                          callbacks=[early_stopping])\n"
   ]
  },
  {
   "cell_type": "markdown",
   "metadata": {},
   "source": [
    "(e) Use mathplotlib.pyplot to plot the training loss and validation loss against the number of epochs. "
   ]
  },
  {
   "cell_type": "code",
   "execution_count": 30,
   "metadata": {},
   "outputs": [
    {
     "data": {
      "image/png": "[encoded data removed]",
      "text/plain": [
       "<Figure size 432x288 with 1 Axes>"
      ]
     },
     "metadata": {
      "needs_background": "light"
     },
     "output_type": "display_data"
    }
   ],
   "source": [
    "import matplotlib.pyplot as plt\n",
    "\n",
    "plt.plot(history.history[\"loss\"],\n",
    "         label=\"train_losses\")\n",
    "plt.plot(history.history[\"val_loss\"],\n",
    "         label=\"val_losses\")\n",
    "\n",
    "plt.legend(loc=\"upper right\")\n",
    "plt.title(\"losses vs steps\")\n",
    "\n",
    "plt.show()"
   ]
  },
  {
   "cell_type": "markdown",
   "metadata": {},
   "source": [
    "(f) Use the autoencoder to predict the first 5 images in the testing set. Plot these predicted images and \n",
    "their corresponding actual images as two rows to examine visually how close they are."
   ]
  },
  {
   "cell_type": "code",
   "execution_count": 48,
   "metadata": {},
   "outputs": [],
   "source": [
    "import numpy as np"
   ]
  },
  {
   "cell_type": "code",
   "execution_count": 82,
   "metadata": {},
   "outputs": [
    {
     "name": "stdout",
     "output_type": "stream",
     "text": [
      "1/1 [==============================] - 0s 12ms/step\n",
      "1/1 [==============================] - 0s 12ms/step\n",
      "1/1 [==============================] - 0s 11ms/step\n",
      "1/1 [==============================] - 0s 11ms/step\n",
      "1/1 [==============================] - 0s 12ms/step\n"
     ]
    },
    {
     "data": {
      "image/png": "[encoded data removed]",
      "text/plain": [
       "<Figure size 576x576 with 10 Axes>"
      ]
     },
     "metadata": {
      "needs_background": "light"
     },
     "output_type": "display_data"
    }
   ],
   "source": [
    "fig, ax = plt.subplots(5, 2)\n",
    "fig.set_figheight(8)\n",
    "fig.set_figwidth(8)\n",
    "# fig.tight_layout()\n",
    "for index, image in enumerate(x_test[:5]):\n",
    "    ax[index, 0].imshow(image, cmap=\"gray\")\n",
    "    ax[index, 1].imshow(autoencoder.predict(image[None, ...])[0], cmap=\"gray\")\n",
    "\n",
    "plt.subplots_adjust(left=0.1,\n",
    "                    bottom=0.1,\n",
    "                    right=0.9,\n",
    "                    top=1,\n",
    "                    wspace=0.2,\n",
    "                    hspace=0.2)\n",
    "plt.show()\n"
   ]
  },
  {
   "cell_type": "markdown",
   "metadata": {},
   "source": [
    "(g) Use Sequential API to create a neural network to include the trained layers of the encoder and the \n",
    "additional layers as shown below. "
   ]
  },
  {
   "cell_type": "code",
   "execution_count": 83,
   "metadata": {},
   "outputs": [],
   "source": [
    "model = tf.keras.Sequential([\n",
    "    encoder,\n",
    "    tf.keras.layers.Dense(30, activation=\"relu\"),\n",
    "    tf.keras.layers.Dense(10, activation=\"softmax\"),\n",
    "])"
   ]
  },
  {
   "cell_type": "markdown",
   "metadata": {},
   "source": [
    "(h) Freeze the weights in the encoder part to train the model in part (g) using the first 3000 instances in \n",
    "the training set. This time the model is trained for the multiclass classification task. Make sure that \n",
    "the labels for the 3000 instances are converted to one-hot vectors of length 10. Use the following \n",
    "choices to compile the model. \n",
    "\n",
    "i. Loss: categorical cross entropy  \n",
    "ii. Metric: categorical accuracy  \n",
    "iii. Optimizer: Adam with learning rate = 0.001 \n",
    "iv. Validation split: 20%  \n",
    "Set the number of epochs to be large (eg. 100) and include early stopping criterion (with \n",
    "patience=3, also set restore_best_weights=True)in the training process. "
   ]
  },
  {
   "cell_type": "code",
   "execution_count": 84,
   "metadata": {},
   "outputs": [],
   "source": [
    "encoder.trainable = False"
   ]
  },
  {
   "cell_type": "code",
   "execution_count": 90,
   "metadata": {},
   "outputs": [],
   "source": [
    "model.compile(\n",
    "    loss=tf.keras.losses.categorical_crossentropy,\n",
    "    metrics=[tf.keras.metrics.categorical_accuracy],\n",
    "    optimizer=tf.keras.optimizers.Adam(learning_rate=0.001),\n",
    ")\n"
   ]
  },
  {
   "cell_type": "code",
   "execution_count": 89,
   "metadata": {},
   "outputs": [
    {
     "name": "stdout",
     "output_type": "stream",
     "text": [
      "Epoch 1/100\n",
      "75/75 [==============================] - 0s 2ms/step - loss: 2.5009 - categorical_accuracy: 0.2700 - val_loss: 1.5950 - val_categorical_accuracy: 0.4100\n",
      "Epoch 2/100\n",
      "75/75 [==============================] - 0s 1ms/step - loss: 1.1835 - categorical_accuracy: 0.5779 - val_loss: 1.0496 - val_categorical_accuracy: 0.6233\n",
      "Epoch 3/100\n",
      "75/75 [==============================] - 0s 936us/step - loss: 0.8435 - categorical_accuracy: 0.7067 - val_loss: 0.8655 - val_categorical_accuracy: 0.7000\n",
      "Epoch 4/100\n",
      "75/75 [==============================] - 0s 940us/step - loss: 0.7239 - categorical_accuracy: 0.7471 - val_loss: 0.7731 - val_categorical_accuracy: 0.7250\n",
      "Epoch 5/100\n",
      "75/75 [==============================] - 0s 967us/step - loss: 0.6552 - categorical_accuracy: 0.7708 - val_loss: 0.7221 - val_categorical_accuracy: 0.7400\n",
      "Epoch 6/100\n",
      "75/75 [==============================] - 0s 922us/step - loss: 0.6086 - categorical_accuracy: 0.7833 - val_loss: 0.6848 - val_categorical_accuracy: 0.7483\n",
      "Epoch 7/100\n",
      "75/75 [==============================] - 0s 932us/step - loss: 0.5744 - categorical_accuracy: 0.7954 - val_loss: 0.6741 - val_categorical_accuracy: 0.7567\n",
      "Epoch 8/100\n",
      "75/75 [==============================] - 0s 996us/step - loss: 0.5516 - categorical_accuracy: 0.7992 - val_loss: 0.6622 - val_categorical_accuracy: 0.7617\n",
      "Epoch 9/100\n",
      "75/75 [==============================] - 0s 947us/step - loss: 0.5352 - categorical_accuracy: 0.8117 - val_loss: 0.6258 - val_categorical_accuracy: 0.7833\n",
      "Epoch 10/100\n",
      "75/75 [==============================] - 0s 953us/step - loss: 0.5172 - categorical_accuracy: 0.8146 - val_loss: 0.6219 - val_categorical_accuracy: 0.7800\n",
      "Epoch 11/100\n",
      "75/75 [==============================] - 0s 931us/step - loss: 0.5036 - categorical_accuracy: 0.8183 - val_loss: 0.6133 - val_categorical_accuracy: 0.7933\n",
      "Epoch 12/100\n",
      "75/75 [==============================] - 0s 941us/step - loss: 0.4863 - categorical_accuracy: 0.8217 - val_loss: 0.5978 - val_categorical_accuracy: 0.7933\n",
      "Epoch 13/100\n",
      "75/75 [==============================] - 0s 913us/step - loss: 0.4745 - categorical_accuracy: 0.8279 - val_loss: 0.6066 - val_categorical_accuracy: 0.7867\n",
      "Epoch 14/100\n",
      "75/75 [==============================] - 0s 935us/step - loss: 0.4690 - categorical_accuracy: 0.8275 - val_loss: 0.5896 - val_categorical_accuracy: 0.7967\n",
      "Epoch 15/100\n",
      "75/75 [==============================] - 0s 930us/step - loss: 0.4574 - categorical_accuracy: 0.8346 - val_loss: 0.5814 - val_categorical_accuracy: 0.8017\n",
      "Epoch 16/100\n",
      "75/75 [==============================] - 0s 939us/step - loss: 0.4549 - categorical_accuracy: 0.8342 - val_loss: 0.5687 - val_categorical_accuracy: 0.8083\n",
      "Epoch 17/100\n",
      "75/75 [==============================] - 0s 922us/step - loss: 0.4383 - categorical_accuracy: 0.8446 - val_loss: 0.5904 - val_categorical_accuracy: 0.8017\n",
      "Epoch 18/100\n",
      "75/75 [==============================] - 0s 908us/step - loss: 0.4355 - categorical_accuracy: 0.8354 - val_loss: 0.5864 - val_categorical_accuracy: 0.7983\n",
      "Epoch 19/100\n",
      "75/75 [==============================] - 0s 919us/step - loss: 0.4299 - categorical_accuracy: 0.8433 - val_loss: 0.5841 - val_categorical_accuracy: 0.7983\n"
     ]
    },
    {
     "data": {
      "text/plain": [
       "<keras.callbacks.History at 0x32ebf1d60>"
      ]
     },
     "execution_count": 89,
     "metadata": {},
     "output_type": "execute_result"
    }
   ],
   "source": [
    "model.fit(\n",
    "    x_train[:3000],\n",
    "    tf.one_hot(y_train[:3000], 10),\n",
    "    epochs=100,\n",
    "    validation_split=0.2,\n",
    "    callbacks=[early_stopping]\n",
    ")\n"
   ]
  },
  {
   "cell_type": "markdown",
   "metadata": {},
   "source": [
    "(i) Evaluate the model accuracy for the testing set. "
   ]
  },
  {
   "cell_type": "code",
   "execution_count": 91,
   "metadata": {},
   "outputs": [
    {
     "name": "stdout",
     "output_type": "stream",
     "text": [
      "313/313 [==============================] - 0s 526us/step - loss: 0.5506 - categorical_accuracy: 0.7951\n"
     ]
    },
    {
     "data": {
      "text/plain": [
       "[0.5505728721618652, 0.7950999736785889]"
      ]
     },
     "execution_count": 91,
     "metadata": {},
     "output_type": "execute_result"
    }
   ],
   "source": [
    "model.evaluate(x_test, tf.one_hot(y_test, 10))"
   ]
  },
  {
   "cell_type": "code",
   "execution_count": null,
   "metadata": {},
   "outputs": [],
   "source": []
  }
 ],
 "metadata": {
  "kernelspec": {
   "display_name": "Python 3.9.13 64-bit ('3.9.13')",
   "language": "python",
   "name": "python3"
  },
  "language_info": {
   "codemirror_mode": {
    "name": "ipython",
    "version": 3
   },
   "file_extension": ".py",
   "mimetype": "text/x-python",
   "name": "python",
   "nbconvert_exporter": "python",
   "pygments_lexer": "ipython3",
   "version": "3.9.13"
  },
  "orig_nbformat": 4,
  "vscode": {
   "interpreter": {
    "hash": "7fa5bc8af570f3b02648c79029e2f415dc83db73ac68e29093bfc0f92a763738"
   }
  }
 },
 "nbformat": 4,
 "nbformat_minor": 2
}
