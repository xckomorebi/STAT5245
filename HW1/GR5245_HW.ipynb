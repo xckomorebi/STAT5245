{
 "cells": [
  {
   "cell_type": "markdown",
   "metadata": {},
   "source": [
    "## GR5245 Homework 1\n",
    "\n",
    "(a) Load the MNIST dataset from tf.keras.datasets.mnist."
   ]
  },
  {
   "cell_type": "code",
   "execution_count": 1,
   "metadata": {},
   "outputs": [],
   "source": [
    "import tensorflow as tf\n",
    "\n",
    "(x_train_full, y_train_full), (x_test, y_test) = tf.keras.datasets.mnist.load_data()\n"
   ]
  },
  {
   "cell_type": "markdown",
   "metadata": {},
   "source": [
    "(b) Reserve 20% of the full training dataset as validation dataset. (you may use functions like `train_test_split()` from Scikit-Learn) "
   ]
  },
  {
   "cell_type": "code",
   "execution_count": 2,
   "metadata": {},
   "outputs": [],
   "source": [
    "from sklearn.model_selection import train_test_split\n",
    "\n",
    "x_train, x_val, y_train, y_val = train_test_split(x_train_full,\n",
    "                                                  y_train_full,\n",
    "                                                  test_size=0.2,\n",
    "                                                  random_state=0)"
   ]
  },
  {
   "cell_type": "code",
   "execution_count": 3,
   "metadata": {},
   "outputs": [
    {
     "name": "stdout",
     "output_type": "stream",
     "text": [
      "shape of X_train:  (48000, 28, 28)\n",
      "shape of X_val:  (12000, 28, 28)\n"
     ]
    }
   ],
   "source": [
    "print(\"shape of X_train: \", x_train.shape)\n",
    "print(\"shape of X_val: \", x_val.shape)"
   ]
  },
  {
   "cell_type": "markdown",
   "metadata": {},
   "source": [
    "(c) Flatten the 2D image examples to 1D arrays with 784 features. Normalize the feature values to range between 0.0 and 1.0. Convert the target values into one hot vectors for multi-class classification. "
   ]
  },
  {
   "cell_type": "code",
   "execution_count": 4,
   "metadata": {},
   "outputs": [],
   "source": [
    "x_train = x_train.reshape((-1, 784))\n",
    "x_test = x_test.reshape((-1, 784))\n",
    "x_val = x_val.reshape((-1, 784))\n",
    "\n",
    "x_train = tf.cast(x_train, dtype=tf.float64) / 255.0 \n",
    "x_test = tf.cast(x_test, dtype=tf.float64) / 255.0 \n",
    "x_val = tf.cast(x_val, dtype=tf.float64) / 255.0 "
   ]
  },
  {
   "cell_type": "code",
   "execution_count": 5,
   "metadata": {},
   "outputs": [],
   "source": [
    "y_train = tf.one_hot(y_train, depth=10)\n",
    "y_test = tf.one_hot(y_test, depth=10)\n",
    "y_val = tf.one_hot(y_val, depth=10)"
   ]
  },
  {
   "cell_type": "markdown",
   "metadata": {},
   "source": [
    "(d) Declare variables required for building a 2-layer neural network where the input layer has 784 \n",
    "neurons, the hidden layer has 128 neurons and the output layer has 10 neurons. Initialize the weight \n",
    "values $(W_1, W_2)$ to 0.01 and the bias values $(b', b'')$ to zero. \n",
    "$$h_1 = ReLU(XW_1 + b_1)$$\n",
    "$$Y = h_1W_2 + b_2$$"
   ]
  },
  {
   "cell_type": "code",
   "execution_count": 6,
   "metadata": {},
   "outputs": [],
   "source": [
    "import numpy as np\n",
    "\n",
    "W1 = tf.Variable(tf.fill([784, 128], np.float64(0.01)))\n",
    "b1 = tf.Variable(tf.zeros([128], dtype=tf.float64))\n",
    "W2 = tf.Variable(tf.fill([128, 10], np.float64(0.01)))\n",
    "b2 = tf.Variable(tf.zeros([10], dtype=tf.float64))\n"
   ]
  },
  {
   "cell_type": "code",
   "execution_count": 12,
   "metadata": {},
   "outputs": [],
   "source": [
    "def re_initial():\n",
    "    \"\"\"re-initialize weights of the two layers\"\"\"\n",
    "    global W1, b1, W2, b2\n",
    "    W1 = tf.Variable(tf.fill([784, 128], np.float64(0.01)))\n",
    "    b1 = tf.Variable(tf.zeros([128], dtype=tf.float64))\n",
    "    W2 = tf.Variable(tf.fill([128, 10], np.float64(0.01)))\n",
    "    b2 = tf.Variable(tf.zeros([10], dtype=tf.float64))\n"
   ]
  },
  {
   "cell_type": "markdown",
   "metadata": {},
   "source": [
    "(e) Write a function that takes 𝑋 as input, computes and returns the predicted values 𝑌 in the output \n",
    "layer of the neural network. "
   ]
  },
  {
   "cell_type": "code",
   "execution_count": 7,
   "metadata": {},
   "outputs": [],
   "source": [
    "def get_logit(X):\n",
    "    # global W1, b1, W2, b2\n",
    "    h1 = tf.nn.relu(tf.matmul(X, W1) + b1)\n",
    "    Y = tf.matmul(h1, W2) + b2\n",
    "    return Y\n"
   ]
  },
  {
   "cell_type": "markdown",
   "metadata": {},
   "source": [
    "(f) Write a training loop that trains the 2-layer neural network using the normalized training dataset in \n",
    "part (c) and the function defined in part (e). Set the number of training steps to 1000. Use \n",
    "tf.optimizers.SGD with learning rate = 0.001. Use cross entropy to define the loss function to be minimized. Print the training loss and validation loss for every 100 steps (ie. at 100th, 200th, ...) to \n",
    "monitor the convergence speed. "
   ]
  },
  {
   "cell_type": "code",
   "execution_count": 8,
   "metadata": {},
   "outputs": [],
   "source": [
    "opt = tf.optimizers.SGD(learning_rate=0.001)\n"
   ]
  },
  {
   "cell_type": "code",
   "execution_count": 9,
   "metadata": {},
   "outputs": [],
   "source": [
    "def one_train_step(x, y):\n",
    "    with tf.GradientTape() as tape:\n",
    "        logits = get_logit(x)\n",
    "        cross_entropy = tf.nn.softmax_cross_entropy_with_logits(labels=y,\n",
    "                                                                logits=logits)\n",
    "        loss = tf.reduce_mean(cross_entropy)\n",
    "        gradients = tape.gradient(loss, [W1, b1, W2, b2])\n",
    "        opt.apply_gradients(zip(gradients, [W1, b1, W2, b2]))\n",
    "        return loss, logits\n"
   ]
  },
  {
   "cell_type": "code",
   "execution_count": 10,
   "metadata": {},
   "outputs": [
    {
     "name": "stdout",
     "output_type": "stream",
     "text": [
      "Step :  100 Train loss:  2.2897008012610214\n",
      "Step :  200 Train loss:  2.2885273600069644\n",
      "Step :  300 Train loss:  2.288077919672611\n",
      "Step :  400 Train loss:  2.2876922440278804\n",
      "Step :  500 Train loss:  2.2873129619343704\n",
      "Step :  600 Train loss:  2.2869334409861777\n",
      "Step :  700 Train loss:  2.286552793231049\n",
      "Step :  800 Train loss:  2.286170876136721\n",
      "Step :  900 Train loss:  2.2857876490896767\n",
      "Step :  1000 Train loss:  2.2854030855605467\n"
     ]
    }
   ],
   "source": [
    "training_steps = 1000\n",
    "\n",
    "for step in range(training_steps):\n",
    "    train_loss, train_logits = one_train_step(x_train, y_train)\n",
    "    if (step + 1) % 100 == 0:\n",
    "        print(\"Step : \", step + 1, \"Train loss: \", float(train_loss))"
   ]
  },
  {
   "cell_type": "markdown",
   "metadata": {},
   "source": [
    "(g) In the training loop, also compute and keep the training loss and validation loss for every step. Plot a \n",
    "graph to show how the training loss and validation loss change as the number of training steps \n",
    "increases. "
   ]
  },
  {
   "cell_type": "code",
   "execution_count": 14,
   "metadata": {},
   "outputs": [
    {
     "name": "stdout",
     "output_type": "stream",
     "text": [
      "Step:  100 Train loss:  2.2897008012610214 Val loss:  2.289479290026079\n",
      "Step:  200 Train loss:  2.2885273600069644 Val loss:  2.288352452174254\n",
      "Step:  300 Train loss:  2.288077919672611 Val loss:  2.2879296027007334\n",
      "Step:  400 Train loss:  2.2876922440278804 Val loss:  2.2875514152135263\n",
      "Step:  500 Train loss:  2.2873129619343704 Val loss:  2.28716981953226\n",
      "Step:  600 Train loss:  2.2869334409861777 Val loss:  2.2867837800769775\n",
      "Step:  700 Train loss:  2.286552793231049 Val loss:  2.286394914303772\n",
      "Step:  800 Train loss:  2.286170876136721 Val loss:  2.286004099384347\n",
      "Step:  900 Train loss:  2.2857876490896767 Val loss:  2.2856116937900213\n",
      "Step:  1000 Train loss:  2.2854030855605467 Val loss:  2.2852178242256445\n"
     ]
    }
   ],
   "source": [
    "training_steps = 1000\n",
    "\n",
    "train_losses_sgd = []\n",
    "val_losses_sgd = []\n",
    "\n",
    "re_initial()\n",
    "for step in range(1000):\n",
    "    train_loss, train_logits = one_train_step(x_train, y_train)\n",
    "    val_logits = get_logit(x_val)\n",
    "    val_cross_entropy = tf.nn.softmax_cross_entropy_with_logits(labels=y_val,\n",
    "                                                                logits=val_logits)\n",
    "    val_loss = tf.reduce_mean(val_cross_entropy)\n",
    "\n",
    "    train_losses_sgd.append(train_loss)\n",
    "    val_losses_sgd.append(val_loss)\n",
    "    if (step + 1) % 100 == 0:\n",
    "        print(\"Step: \", step + 1, \"Train loss: \", float(train_loss), \"Val loss: \", float(val_loss))\n"
   ]
  },
  {
   "cell_type": "code",
   "execution_count": 19,
   "metadata": {},
   "outputs": [
    {
     "data": {
      "image/png": "[encoded data removed]",
      "text/plain": [
       "<Figure size 432x288 with 1 Axes>"
      ]
     },
     "metadata": {
      "needs_background": "light"
     },
     "output_type": "display_data"
    }
   ],
   "source": [
    "import matplotlib.pyplot as plt\n",
    "\n",
    "plt.plot(train_losses_sgd,\n",
    "         label=\"train_losses\")\n",
    "plt.plot(val_losses_sgd,\n",
    "         label=\"val_losses\")\n",
    "\n",
    "plt.legend(loc=\"upper right\")\n",
    "plt.title(\"losses vs steps (sgd)\")\n",
    "\n",
    "plt.show()"
   ]
  },
  {
   "cell_type": "markdown",
   "metadata": {},
   "source": [
    "(h) In the training loop, try tf.optimizers.Adam with learning rate = 0.001. Which one, SGD or \n",
    "Adam gives a better convergence speed in this case? \n",
    "Note: for a proper comparison of convergence, please ensure that the same random seed is used in \n",
    "both cases. "
   ]
  },
  {
   "cell_type": "code",
   "execution_count": 20,
   "metadata": {},
   "outputs": [
    {
     "name": "stdout",
     "output_type": "stream",
     "text": [
      "Step:  100 Train loss:  1.9804271528012936 Val loss:  1.9775076904919842\n",
      "Step:  200 Train loss:  1.6324480123115748 Val loss:  1.6273823948693174\n",
      "Step:  300 Train loss:  1.452934952189212 Val loss:  1.4512274194928598\n",
      "Step:  400 Train loss:  1.355787933641268 Val loss:  1.352473755385554\n",
      "Step:  500 Train loss:  1.303882211658549 Val loss:  1.3003036412204518\n",
      "Step:  600 Train loss:  1.2740449876047557 Val loss:  1.2725047864196934\n",
      "Step:  700 Train loss:  1.2501872731872314 Val loss:  1.250172077157178\n",
      "Step:  800 Train loss:  1.2292636930171879 Val loss:  1.2309954966618717\n",
      "Step:  900 Train loss:  1.2078729407094653 Val loss:  1.2089952079892847\n",
      "Step:  1000 Train loss:  1.1823800896381247 Val loss:  1.1810272069073187\n"
     ]
    }
   ],
   "source": [
    "opt = tf.optimizers.Adam(learning_rate=0.001)\n",
    "\n",
    "train_losses_adam = []\n",
    "val_losses_adam = []\n",
    "\n",
    "re_initial()\n",
    "for step in range(1000):\n",
    "    train_loss, train_logits = one_train_step(x_train, y_train)\n",
    "    val_logits = get_logit(x_val)\n",
    "    val_cross_entropy = tf.nn.softmax_cross_entropy_with_logits(labels=y_val,\n",
    "                                                                logits=val_logits)\n",
    "    val_loss = tf.reduce_mean(val_cross_entropy)\n",
    "\n",
    "    train_losses_adam.append(train_loss)\n",
    "    val_losses_adam.append(val_loss)\n",
    "    if (step + 1) % 100 == 0:\n",
    "        print(\"Step: \", step + 1, \"Train loss: \", float(train_loss), \"Val loss: \", float(val_loss))"
   ]
  },
  {
   "cell_type": "code",
   "execution_count": 22,
   "metadata": {},
   "outputs": [
    {
     "data": {
      "image/png": "[encoded data removed]",
      "text/plain": [
       "<Figure size 432x288 with 1 Axes>"
      ]
     },
     "metadata": {
      "needs_background": "light"
     },
     "output_type": "display_data"
    }
   ],
   "source": [
    "plt.plot(train_losses_sgd,\n",
    "         label=\"train_losses (sgd)\")\n",
    "plt.plot(val_losses_sgd,\n",
    "         label=\"val_losses (sgd)\")\n",
    "\n",
    "plt.plot(train_losses_adam,\n",
    "         label=\"train_losses (adam)\")\n",
    "plt.plot(val_losses_adam,\n",
    "         label=\"val_losses (adam)\")\n",
    "\n",
    "plt.legend()\n",
    "plt.title(\"losses vs steps (sgd + adam)\")\n",
    "\n",
    "plt.show()"
   ]
  },
  {
   "cell_type": "markdown",
   "metadata": {},
   "source": [
    "Adam gives a better convergence speed in this case"
   ]
  },
  {
   "cell_type": "markdown",
   "metadata": {},
   "source": [
    "(i) In part (d), weights were initialized to 0.01. Try initializing the weights to be random samples of a \n",
    "normal distribution with mean 0 and standard deviation of 0.1. Which weight initialization gives \n",
    "better convergence speed?\n",
    "\n",
    "Note: https://arxiv.org/pdf/2102.07004.pdf provides a good reference of weight initialization \n",
    "methods being used. "
   ]
  },
  {
   "cell_type": "code",
   "execution_count": 23,
   "metadata": {},
   "outputs": [
    {
     "name": "stdout",
     "output_type": "stream",
     "text": [
      "Step:  100 Train loss:  2.4396658573697447 Val loss:  2.44211780256578\n",
      "Step:  200 Train loss:  2.270288803398645 Val loss:  2.272956478414456\n",
      "Step:  300 Train loss:  2.1527143593285243 Val loss:  2.155263678277739\n",
      "Step:  400 Train loss:  2.058561580679381 Val loss:  2.0608555111092905\n",
      "Step:  500 Train loss:  1.9762796494668629 Val loss:  1.978294507297937\n",
      "Step:  600 Train loss:  1.9010790097452386 Val loss:  1.9027916318708393\n",
      "Step:  700 Train loss:  1.8308608354296787 Val loss:  1.8322330206291784\n",
      "Step:  800 Train loss:  1.7646653397722318 Val loss:  1.765680259397526\n",
      "Step:  900 Train loss:  1.7020182032376934 Val loss:  1.7026829239631267\n",
      "Step:  1000 Train loss:  1.6426629894068259 Val loss:  1.642995953106459\n"
     ]
    }
   ],
   "source": [
    "train_losses_normal = []\n",
    "val_losses_normal = []\n",
    "\n",
    "tf.random.set_seed(0)\n",
    "\n",
    "opt = tf.optimizers.SGD(learning_rate=0.001)\n",
    "\n",
    "W1 = tf.Variable(tf.random.normal((784, 128), mean=0, stddev=0.1, dtype=tf.float64))\n",
    "b1 = tf.Variable(tf.zeros([128], dtype=tf.float64))\n",
    "W2 = tf.Variable(tf.random.normal((128, 10), mean=0, stddev=0.1, dtype=tf.float64))\n",
    "b2 = tf.Variable(tf.zeros([10], dtype=tf.float64))\n",
    "\n",
    "for step in range(1000):\n",
    "    train_loss, train_logits = one_train_step(x_train, y_train)\n",
    "    val_logits = get_logit(x_val)\n",
    "    val_cross_entropy = tf.nn.softmax_cross_entropy_with_logits(labels=y_val,\n",
    "                                                                logits=val_logits)\n",
    "    val_loss = tf.reduce_mean(val_cross_entropy)\n",
    "\n",
    "    train_losses_normal.append(train_loss)\n",
    "    val_losses_normal.append(val_loss)\n",
    "    if (step + 1) % 100 == 0:\n",
    "        print(\"Step: \", step + 1, \"Train loss: \", float(train_loss), \"Val loss: \", float(val_loss))"
   ]
  },
  {
   "cell_type": "code",
   "execution_count": 24,
   "metadata": {},
   "outputs": [
    {
     "data": {
      "image/png": "[encoded data removed]",
      "text/plain": [
       "<Figure size 432x288 with 1 Axes>"
      ]
     },
     "metadata": {
      "needs_background": "light"
     },
     "output_type": "display_data"
    }
   ],
   "source": [
    "plt.plot(train_losses_sgd,\n",
    "         label=\"train_losses (0.01)\")\n",
    "\n",
    "plt.plot(train_losses_normal,\n",
    "         label=\"train_losses (normal)\")\n",
    "\n",
    "plt.legend()\n",
    "plt.title(\"losses vs steps\")\n",
    "\n",
    "plt.show()"
   ]
  },
  {
   "cell_type": "markdown",
   "metadata": {},
   "source": [
    "Normal distribution gives better convergence speed."
   ]
  },
  {
   "cell_type": "markdown",
   "metadata": {},
   "source": [
    "(j) Based on the choice of optimizer and weight initialization in part (h) and (i), re-train your neural \n",
    "network. Modify your training loop to stop training when the validation loss is not reduced further. \n",
    "Update your graph in (g). "
   ]
  },
  {
   "cell_type": "code",
   "execution_count": 40,
   "metadata": {},
   "outputs": [
    {
     "name": "stdout",
     "output_type": "stream",
     "text": [
      "Step:  100 Train loss:  0.27114123767522363 Val loss:  0.2638378775357485\n",
      "Step:  200 Train loss:  0.17135636549796043 Val loss:  0.17678724286910263\n",
      "Step:  300 Train loss:  0.1224248059959648 Val loss:  0.13934955927687626\n",
      "Step:  400 Train loss:  0.0915410468091521 Val loss:  0.1188061486621341\n",
      "Step:  500 Train loss:  0.07036949089077184 Val loss:  0.10694982006375542\n",
      "Step:  600 Train loss:  0.05485335956491186 Val loss:  0.10013775085589534\n",
      "Step:  700 Train loss:  0.043084329535985184 Val loss:  0.09637457486660687\n",
      "Step:  800 Train loss:  0.034000960216457196 Val loss:  0.09447976635182322\n",
      "Step: 892, validation loss is not reduced further. Training stops\n"
     ]
    }
   ],
   "source": [
    "train_losses_normal_adam = []\n",
    "val_losses_normal_adam = []\n",
    "\n",
    "tf.random.set_seed(0)\n",
    "\n",
    "opt = tf.optimizers.Adam(learning_rate=0.001)\n",
    "\n",
    "W1 = tf.Variable(tf.random.normal((784, 128), mean=0, stddev=0.1, dtype=tf.float64))\n",
    "b1 = tf.Variable(tf.zeros([128], dtype=tf.float64))\n",
    "W2 = tf.Variable(tf.random.normal((128, 10), mean=0, stddev=0.1, dtype=tf.float64))\n",
    "b2 = tf.Variable(tf.zeros([10], dtype=tf.float64))\n",
    "\n",
    "step = 0\n",
    "\n",
    "while True:\n",
    "    train_loss, train_logits = one_train_step(x_train, y_train)\n",
    "    val_logits = get_logit(x_val)\n",
    "    val_cross_entropy = tf.nn.softmax_cross_entropy_with_logits(labels=y_val,\n",
    "                                                                logits=val_logits)\n",
    "    val_loss = tf.reduce_mean(val_cross_entropy)\n",
    "\n",
    "    train_losses_normal_adam.append(train_loss)\n",
    "    val_losses_normal_adam.append(val_loss)\n",
    "    if (step + 1) % 100 == 0:\n",
    "        print(\"Step: \", step + 1, \"Train loss: \", float(train_loss), \"Val loss: \", float(val_loss))\n",
    "    \n",
    "    if step > 1 and val_loss > val_losses_normal_adam[-2]:\n",
    "        print(f\"Step: {step}, validation loss is not reduced further. Training stops\")\n",
    "        break\n",
    "    \n",
    "    step += 1"
   ]
  },
  {
   "cell_type": "code",
   "execution_count": 41,
   "metadata": {},
   "outputs": [
    {
     "data": {
      "image/png": "[encoded data removed]",
      "text/plain": [
       "<Figure size 432x288 with 1 Axes>"
      ]
     },
     "metadata": {
      "needs_background": "light"
     },
     "output_type": "display_data"
    }
   ],
   "source": [
    "plt.plot(train_losses_normal_adam,\n",
    "         label=\"train_losses\")\n",
    "plt.plot(val_losses_normal_adam,\n",
    "         label=\"val_losses\")\n",
    "\n",
    "plt.legend(loc=\"upper right\")\n",
    "plt.title(\"losses vs steps (normal + Adam)\")\n",
    "\n",
    "plt.show()"
   ]
  },
  {
   "cell_type": "markdown",
   "metadata": {},
   "source": [
    "(k) Compute the accuracy of your model using the test dataset obtained in part (a).  "
   ]
  },
  {
   "cell_type": "code",
   "execution_count": 42,
   "metadata": {},
   "outputs": [
    {
     "data": {
      "text/plain": [
       "0.9723"
      ]
     },
     "execution_count": 42,
     "metadata": {},
     "output_type": "execute_result"
    }
   ],
   "source": [
    "from sklearn.metrics import accuracy_score, confusion_matrix\n",
    "\n",
    "test_logits = get_logit(x_test)\n",
    "\n",
    "test_pred = np.argmax(test_logits, axis=1)\n",
    "accuracy_score(np.argmax(y_test, axis=1), test_pred)"
   ]
  }
 ],
 "metadata": {
  "kernelspec": {
   "display_name": "Python 3 (ipykernel)",
   "language": "python",
   "name": "python3"
  },
  "language_info": {
   "codemirror_mode": {
    "name": "ipython",
    "version": 3
   },
   "file_extension": ".py",
   "mimetype": "text/x-python",
   "name": "python",
   "nbconvert_exporter": "python",
   "pygments_lexer": "ipython3",
   "version": "3.9.13"
  },
  "vscode": {
   "interpreter": {
    "hash": "7fa5bc8af570f3b02648c79029e2f415dc83db73ac68e29093bfc0f92a763738"
   }
  }
 },
 "nbformat": 4,
 "nbformat_minor": 2
}
